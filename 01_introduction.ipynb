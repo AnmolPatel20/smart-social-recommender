{
 "cells": [
  {
   "cell_type": "code",
   "execution_count": 1,
   "id": "154bcee9-0c65-4c51-b275-55e94f753fb0",
   "metadata": {},
   "outputs": [],
   "source": [
    "import json"
   ]
  },
  {
   "cell_type": "code",
   "execution_count": 2,
   "id": "46a4595e-60b2-43fe-be18-0351278da14c",
   "metadata": {},
   "outputs": [],
   "source": [
    "#lets write a function to load data\n",
    "def load_data(filename):\n",
    "    with open(filename,\"r\") as f:\n",
    "        data=json.load(f)\n",
    "    return data"
   ]
  },
  {
   "cell_type": "code",
   "execution_count": 4,
   "id": "b53a05da-dd57-499a-8ae2-bc8b0d53738d",
   "metadata": {},
   "outputs": [],
   "source": [
    "data = load_data(\"data.json\")"
   ]
  },
  {
   "cell_type": "code",
   "execution_count": 5,
   "id": "73f2bc74-6f13-484a-8597-5fd46ac762fc",
   "metadata": {},
   "outputs": [
    {
     "data": {
      "text/plain": [
       "{'users': [{'id': 1, 'name': 'Amit', 'friends': [2, 3], 'liked_pages': [101]},\n",
       "  {'id': 2, 'name': 'Priya', 'friends': [1, 4], 'liked_pages': [102]},\n",
       "  {'id': 3, 'name': 'Rahul', 'friends': [1], 'liked_pages': [101, 103]},\n",
       "  {'id': 4, 'name': 'Sara', 'friends': [2], 'liked_pages': [104]}],\n",
       " 'pages': [{'id': 101, 'name': 'Python Developers'},\n",
       "  {'id': 102, 'name': 'Data Science Enthusiasts'},\n",
       "  {'id': 103, 'name': 'AI & ML Community'},\n",
       "  {'id': 104, 'name': 'Web Dev Hub'}]}"
      ]
     },
     "execution_count": 5,
     "metadata": {},
     "output_type": "execute_result"
    }
   ],
   "source": [
    "data"
   ]
  },
  {
   "cell_type": "code",
   "execution_count": 6,
   "id": "619bb4c0-e0b7-4182-a4df-5427a3c39e3e",
   "metadata": {},
   "outputs": [
    {
     "data": {
      "text/plain": [
       "dict"
      ]
     },
     "execution_count": 6,
     "metadata": {},
     "output_type": "execute_result"
    }
   ],
   "source": [
    "type(data)"
   ]
  },
  {
   "cell_type": "code",
   "execution_count": 11,
   "id": "98d52b26-da7c-4671-a574-2d9808605b01",
   "metadata": {},
   "outputs": [
    {
     "name": "stdout",
     "output_type": "stream",
     "text": [
      "Users and their connections\n",
      "\n",
      "ID=1-Amit is friends with: [2, 3] and liked pages are [101]\n",
      "ID=2-Priya is friends with: [1, 4] and liked pages are [102]\n",
      "ID=3-Rahul is friends with: [1] and liked pages are [101, 103]\n",
      "ID=4-Sara is friends with: [2] and liked pages are [104]\n",
      "\n",
      "Pages Information\n",
      "101: Python Developers\n",
      "102: Data Science Enthusiasts\n",
      "103: AI & ML Community\n",
      "104: Web Dev Hub\n"
     ]
    }
   ],
   "source": [
    "# write a function to display users and the connections\n",
    "\n",
    "def display_users(data):\n",
    "    print(\"Users and their connections\\n\")\n",
    "    for user in data['users']:\n",
    "        print(f\"ID={user['id']}-{user['name']} is friends with: {user['friends']} and liked pages are {user['liked_pages']}\")\n",
    "    print(\"\\nPages Information\")\n",
    "    for page in data['pages']:\n",
    "        print(f\"{page['id']}: {page['name']}\")\n",
    "\n",
    "display_users(data)"
   ]
  },
  {
   "cell_type": "code",
   "execution_count": null,
   "id": "5f1f9bbb-16ab-410f-958e-470d2bd32336",
   "metadata": {},
   "outputs": [],
   "source": []
  }
 ],
 "metadata": {
  "kernelspec": {
   "display_name": "Python 3 (ipykernel)",
   "language": "python",
   "name": "python3"
  },
  "language_info": {
   "codemirror_mode": {
    "name": "ipython",
    "version": 3
   },
   "file_extension": ".py",
   "mimetype": "text/x-python",
   "name": "python",
   "nbconvert_exporter": "python",
   "pygments_lexer": "ipython3",
   "version": "3.12.7"
  }
 },
 "nbformat": 4,
 "nbformat_minor": 5
}
