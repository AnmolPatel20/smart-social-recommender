{
 "cells": [
  {
   "cell_type": "code",
   "execution_count": 1,
   "id": "c45d84b2-50d1-452d-9279-a2ee3e94e819",
   "metadata": {},
   "outputs": [
    {
     "name": "stdout",
     "output_type": "stream",
     "text": [
      "Data has been cleaned Successfully\n"
     ]
    }
   ],
   "source": [
    "import json\n",
    "\n",
    "def clean_data(data):\n",
    "    \n",
    "    #Remove users woth missing names\n",
    "    data[\"users\"] =  [user for user in data[\"users\"] if user [\"name\"].strip()]\n",
    "    \n",
    "    #Remove duplicate friends\n",
    "    for user in data[\"users\"]:\n",
    "        user['friends'] = list(set(user['friends']))\n",
    "\n",
    "    #Remove inactive users\n",
    "    data['users']=[user for user in data['users'] if user ['friends'] or user['liked_pages']]\n",
    "    \n",
    "    #Remove duplicate values\n",
    "    unique_pages={}\n",
    "    for page in data['pages']:\n",
    "        unique_pages[page['id']]=page\n",
    "    data['pages']=list(unique_pages.values())\n",
    "    return data\n",
    "\n",
    "    \n",
    "#Load the data \n",
    "data = json.load(open(\"data2.json\"))\n",
    "data = clean_data(data)\n",
    "json.dump(data,open(\"cleaned_data.json\",\"w\"), indent=4)\n",
    "print (\"Data has been cleaned Successfully\")"
   ]
  },
  {
   "cell_type": "code",
   "execution_count": null,
   "id": "a85d377d-8146-48b7-9a4b-f2f727a7bf90",
   "metadata": {},
   "outputs": [],
   "source": []
  }
 ],
 "metadata": {
  "kernelspec": {
   "display_name": "Python 3 (ipykernel)",
   "language": "python",
   "name": "python3"
  },
  "language_info": {
   "codemirror_mode": {
    "name": "ipython",
    "version": 3
   },
   "file_extension": ".py",
   "mimetype": "text/x-python",
   "name": "python",
   "nbconvert_exporter": "python",
   "pygments_lexer": "ipython3",
   "version": "3.12.7"
  }
 },
 "nbformat": 4,
 "nbformat_minor": 5
}
